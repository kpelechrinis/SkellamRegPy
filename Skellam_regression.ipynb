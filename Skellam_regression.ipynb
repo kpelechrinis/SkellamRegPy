{
 "cells": [
  {
   "cell_type": "markdown",
   "metadata": {},
   "source": [
    "# Implementing Skellam regression in Python"
   ]
  },
  {
   "cell_type": "markdown",
   "metadata": {},
   "source": [
    "In many cases we have count data (of possibly rare events) that we can model through a Poisson distribution. In many of these cases we are not really interested in the number of events, but rather in the difference between two different types of events. For example, in hockey the number of goals a team scores can be modeled through a Poisson distribution. If we want to build a win probability model we are not really interested in the actual goals to be scored but rather in the difference between the goals scored from the two teams. "
   ]
  },
  {
   "cell_type": "markdown",
   "metadata": {},
   "source": [
    "## Skellam distribution"
   ]
  },
  {
   "cell_type": "markdown",
   "metadata": {},
   "source": [
    "Assuming two Poisson-distributed random variables $X_1 \\sim Pois(\\lambda_1)$ and $X_2 \\sim Pois(\\lambda_2)$, their difference $Y = X_1 - X_2$ follows a [Skellam distribution](https://en.wikipedia.org/wiki/Skellam_distribution). For example, let's assume that the number of passengers coming off the bus at a specific stop follows a Poisson distribution with average $\\lambda_{off} = 1.5$, while the number of passengers getting on the bus at the same stop follows a Poisson distribution with average $\\lambda_{on} = 2.5$. Then the net increase of the passengers on the bus follows a Skellam distribution $Sk(\\lambda_{on}, \\lambda_{off})$:"
   ]
  },
  {
   "cell_type": "code",
   "execution_count": 222,
   "metadata": {},
   "outputs": [
    {
     "data": {
      "text/plain": [
       "Text(0, 0.5, 'Probability')"
      ]
     },
     "execution_count": 222,
     "metadata": {},
     "output_type": "execute_result"
    },
    {
     "data": {
      "image/png": "[encoded data removed]",
      "text/plain": [
       "<Figure size 432x288 with 1 Axes>"
      ]
     },
     "metadata": {},
     "output_type": "display_data"
    }
   ],
   "source": [
    "from scipy.stats import poisson, skellam\n",
    "import numpy as np\n",
    "import matplotlib.pyplot as plt\n",
    "\n",
    "fig, ax = plt.subplots(1, 1)\n",
    "\n",
    "l1, l2 = 2.5, 1.5\n",
    "x = np.arange(skellam.ppf(0.01, l1, l2), skellam.ppf(0.99, l1, l2))\n",
    "ax.plot(x, skellam.pmf(x, l1, l2), 'bo', ms=8)\n",
    "ax.vlines(x, 0, skellam.pmf(x, l1, l2), colors='b', lw=5, alpha=0.5)\n",
    "rv = skellam(l1, l2)\n",
    "ax.vlines(x, 0, rv.pmf(x), colors='k', linestyles='-', lw=1.5)\n",
    "ax.set_xlabel('Net increase of bus passengers')\n",
    "ax.set_ylabel('Probability')"
   ]
  },
  {
   "cell_type": "markdown",
   "metadata": {},
   "source": [
    "Using this distribution we can see that we expect to net one additional passenger at this stop with a probability a little over 20%, while the probability of having more passengers getting off the bus than coming on is:"
   ]
  },
  {
   "cell_type": "code",
   "execution_count": 223,
   "metadata": {},
   "outputs": [
    {
     "data": {
      "text/plain": [
       "0.12"
      ]
     },
     "execution_count": 223,
     "metadata": {},
     "output_type": "execute_result"
    }
   ],
   "source": [
    "# we simply add the pmf for values less than 0. \n",
    "round(sum([skellam.pmf(k, l1, l2) for k in [-100,-1]]),2)"
   ]
  },
  {
   "cell_type": "markdown",
   "metadata": {},
   "source": [
    "## Skellam regression"
   ]
  },
  {
   "cell_type": "markdown",
   "metadata": {},
   "source": [
    "What happens when the distribution parameters are not constant but they depend on other covariates? In this case the actual distribution will depend on these covariates. This is not different than the case of a logistic regreesion, where the Binomial distribution describing the dependent variable depends on the model covariates. The goal here is not to go into the theory of [Generalized Linear Models](https://en.wikipedia.org/wiki/Generalized_linear_model), but rather to show how you can build a Skellam regression in Python. The built-in functions support several families of GLMs but not Skellam. "
   ]
  },
  {
   "cell_type": "markdown",
   "metadata": {},
   "source": [
    "While one could built two separate GLMs for the two Poisson distributions that generate the Skellam distribution, this would not be appropriate for distributions that are not independent. On the contrary modeling directly the difference of the distributions does not have this problem, since the Skellam distribution [does not depend on the correlation between the two Poisson distributions](https://www.ncbi.nlm.nih.gov/pubmed/20256640)."
   ]
  },
  {
   "cell_type": "markdown",
   "metadata": {},
   "source": [
    "These type of models are usually solved through [Maximum Likelihood Estimation](https://en.wikipedia.org/wiki/Maximum_likelihood_estimation). In particular, we define the likelihood function $\\mathcal{L}(\\mathbf{p})$ (usually the log-likelihood is used, $\\log(\\mathcal{L}(\\mathbf{p})$) and identify parameters $\\mathbf{p}$ that maximize this likelihood for the training data to have been observed under our model. "
   ]
  },
  {
   "cell_type": "markdown",
   "metadata": {},
   "source": [
    "${\\bf Generate~ data:}$ We begin by generating synthetic data that capture the difference between two counts (e.g., passengers on and off the bus) whose expected value depends (linearly) on a covariate $x$ and are Poisson distributed. "
   ]
  },
  {
   "cell_type": "code",
   "execution_count": 224,
   "metadata": {},
   "outputs": [
    {
     "data": {
      "text/html": [
       "<div>\n",
       "<style scoped>\n",
       "    .dataframe tbody tr th:only-of-type {\n",
       "        vertical-align: middle;\n",
       "    }\n",
       "\n",
       "    .dataframe tbody tr th {\n",
       "        vertical-align: top;\n",
       "    }\n",
       "\n",
       "    .dataframe thead th {\n",
       "        text-align: right;\n",
       "    }\n",
       "</style>\n",
       "<table border=\"1\" class=\"dataframe\">\n",
       "  <thead>\n",
       "    <tr style=\"text-align: right;\">\n",
       "      <th></th>\n",
       "      <th>x</th>\n",
       "      <th>y</th>\n",
       "    </tr>\n",
       "  </thead>\n",
       "  <tbody>\n",
       "    <tr>\n",
       "      <th>0</th>\n",
       "      <td>1.338802</td>\n",
       "      <td>-8</td>\n",
       "    </tr>\n",
       "    <tr>\n",
       "      <th>1</th>\n",
       "      <td>4.211756</td>\n",
       "      <td>-20</td>\n",
       "    </tr>\n",
       "    <tr>\n",
       "      <th>2</th>\n",
       "      <td>1.760770</td>\n",
       "      <td>-10</td>\n",
       "    </tr>\n",
       "    <tr>\n",
       "      <th>3</th>\n",
       "      <td>4.752165</td>\n",
       "      <td>-32</td>\n",
       "    </tr>\n",
       "    <tr>\n",
       "      <th>4</th>\n",
       "      <td>3.868608</td>\n",
       "      <td>-3</td>\n",
       "    </tr>\n",
       "  </tbody>\n",
       "</table>\n",
       "</div>"
      ],
      "text/plain": [
       "          x   y\n",
       "0  1.338802  -8\n",
       "1  4.211756 -20\n",
       "2  1.760770 -10\n",
       "3  4.752165 -32\n",
       "4  3.868608  -3"
      ]
     },
     "execution_count": 224,
     "metadata": {},
     "output_type": "execute_result"
    }
   ],
   "source": [
    "import random\n",
    "import scipy.stats as stats\n",
    "import pandas as pd\n",
    "\n",
    "N = 10000\n",
    "# x is a covariate that \"dictates\" the expected number of passengers on and off the bus (e.g., the )\n",
    "x = np.array([random.uniform(0.1,5) for _ in range(N)])\n",
    "# generate the distribution parameters through a linear function of the independent variable x \n",
    "l1 = 3*x\n",
    "l2 = 8*x\n",
    "# generate the dependent variable (e.g., net increase in bus load) using the Skellam distribution\n",
    "y = [stats.skellam.rvs(l1[i],l2[i]) for i in range(N)]\n",
    "\n",
    "df = pd.DataFrame({'x': list(x), 'y': y})\n",
    "df.head()"
   ]
  },
  {
   "cell_type": "markdown",
   "metadata": {},
   "source": [
    "Essentially now we have a dataset where the dependent variabe $y$ is Skellam-distibuted (e.g., the net increase in the load capacity) and we have an independent variable $x$. In order to be able to make prediction we need to create a Skellam regression, where the distribution parameters will depend (linearly) on the covariate. "
   ]
  },
  {
   "cell_type": "markdown",
   "metadata": {},
   "source": [
    "${\\bf Likelihood~function: }$We begin by defining the likelihood function. This function takes as input the currently estimated parameters of the model (intercepts and slopes), and estimates the negative log-likelihood. We will pass this function, along with initial estimates of the parameters, to the minimization function to obtain the solution: "
   ]
  },
  {
   "cell_type": "code",
   "execution_count": 225,
   "metadata": {},
   "outputs": [],
   "source": [
    "def MLESkellamRegression(params):\n",
    "    # params is a vector that stores the parameters to be learned \n",
    "    int1, int2, beta1, beta2 = params[0], params[1] , params[2], params[3] \n",
    "    l1 = int1 + beta1*x\n",
    "    l2 = int2 + beta2*x\n",
    "    # compute the log PMF of the observed Skellam-distributed values of the dependent variable y\n",
    "    # we use the exponential to make sure that parameters mu1 and mu2 are non-negative \n",
    "    negLL = -np.sum( stats.skellam.logpmf(y, mu1=np.exp(l1), mu2 = np.exp(l2), loc = 0) )\n",
    "    # return negative LL\n",
    "    return(negLL)"
   ]
  },
  {
   "cell_type": "markdown",
   "metadata": {},
   "source": [
    "${\\bf Solve~the~optimization~problem: }$ We will use the minimization function in scipy to obtain the solution to our likelihood problem. We will input an initial estimate for the parameters and let the function do its magic. "
   ]
  },
  {
   "cell_type": "code",
   "execution_count": 226,
   "metadata": {},
   "outputs": [
    {
     "name": "stdout",
     "output_type": "stream",
     "text": [
      "Optimization terminated successfully.\n",
      "         Current function value: 30534.836798\n",
      "         Iterations: 220\n",
      "         Function evaluations: 368\n"
     ]
    }
   ],
   "source": [
    "from scipy.optimize import minimize\n",
    "\n",
    "# initial estimate \n",
    "x0 = np.array([1,1,1,1])\n",
    "\n",
    "results = minimize(MLESkellamRegression, x0, method = \"Nelder-Mead\", options={'disp': True})"
   ]
  },
  {
   "cell_type": "markdown",
   "metadata": {},
   "source": [
    "${\\bf Evaluation:}$We now will see how well the learnt model can predict out-of-sample. We will generate a test-set with the same process as above (it would be exactly the same if we had generated more data above and simply removed some for the training). We will then explore how the expected value and the distribution of the prediction from our GLM fares with the actual values observed. "
   ]
  },
  {
   "cell_type": "code",
   "execution_count": 227,
   "metadata": {},
   "outputs": [
    {
     "data": {
      "text/html": [
       "<div>\n",
       "<style scoped>\n",
       "    .dataframe tbody tr th:only-of-type {\n",
       "        vertical-align: middle;\n",
       "    }\n",
       "\n",
       "    .dataframe tbody tr th {\n",
       "        vertical-align: top;\n",
       "    }\n",
       "\n",
       "    .dataframe thead th {\n",
       "        text-align: right;\n",
       "    }\n",
       "</style>\n",
       "<table border=\"1\" class=\"dataframe\">\n",
       "  <thead>\n",
       "    <tr style=\"text-align: right;\">\n",
       "      <th></th>\n",
       "      <th>x_test</th>\n",
       "      <th>y_test</th>\n",
       "    </tr>\n",
       "  </thead>\n",
       "  <tbody>\n",
       "    <tr>\n",
       "      <th>0</th>\n",
       "      <td>0.323249</td>\n",
       "      <td>-2</td>\n",
       "    </tr>\n",
       "    <tr>\n",
       "      <th>1</th>\n",
       "      <td>2.641743</td>\n",
       "      <td>-13</td>\n",
       "    </tr>\n",
       "    <tr>\n",
       "      <th>2</th>\n",
       "      <td>0.623779</td>\n",
       "      <td>-4</td>\n",
       "    </tr>\n",
       "    <tr>\n",
       "      <th>3</th>\n",
       "      <td>0.275172</td>\n",
       "      <td>-1</td>\n",
       "    </tr>\n",
       "    <tr>\n",
       "      <th>4</th>\n",
       "      <td>3.753940</td>\n",
       "      <td>-15</td>\n",
       "    </tr>\n",
       "  </tbody>\n",
       "</table>\n",
       "</div>"
      ],
      "text/plain": [
       "     x_test  y_test\n",
       "0  0.323249      -2\n",
       "1  2.641743     -13\n",
       "2  0.623779      -4\n",
       "3  0.275172      -1\n",
       "4  3.753940     -15"
      ]
     },
     "execution_count": 227,
     "metadata": {},
     "output_type": "execute_result"
    }
   ],
   "source": [
    "x_test = np.array([random.uniform(0.1,5) for _ in range(1000)])\n",
    "y1_test = 3*x_test\n",
    "y2_test = 8*x_test\n",
    "y_test = [stats.skellam.rvs(y1_test[i],y2_test[i]) for i in range(1000)]\n",
    "\n",
    "df_test = pd.DataFrame({'x_test':list(x_test), 'y_test':y_test})\n",
    "df_test.head()"
   ]
  },
  {
   "cell_type": "code",
   "execution_count": 228,
   "metadata": {},
   "outputs": [],
   "source": [
    "# predictions for the Skellam distribution parameters \n",
    "y1_hat = [np.exp(results.x[0] + results.x[2]*x_test[i]) for i in range(1000)]\n",
    "y2_hat = [np.exp(results.x[1] + results.x[3]*x_test[i]) for i in range(1000)]\n",
    "y_hat = list(np.array(y1_hat) - np.array(y2_hat))"
   ]
  },
  {
   "cell_type": "markdown",
   "metadata": {},
   "source": [
    "The code above uses the trained model to predict the two parameters of the Skellam distribution. Given that the expected value of a variable $X\\sim Skellam(\\lambda_1, \\lambda_2)$ is $E[X] = \\lambda_1 - \\lambda_2$, we can use $\\hat y$ as our prediction. The following graph shows the predicted and the actual values for the dependent variable: "
   ]
  },
  {
   "cell_type": "code",
   "execution_count": 229,
   "metadata": {},
   "outputs": [
    {
     "name": "stdout",
     "output_type": "stream",
     "text": [
      "The RMSE of the predictions is:  5.2933452940021315\n"
     ]
    },
    {
     "data": {
      "image/png": "[encoded data removed]",
      "text/plain": [
       "<Figure size 432x288 with 1 Axes>"
      ]
     },
     "metadata": {},
     "output_type": "display_data"
    }
   ],
   "source": [
    "from sklearn.metrics import mean_squared_error\n",
    "from math import sqrt\n",
    "\n",
    "plt.scatter(y_test,y_hat)\n",
    "plt.xlabel(\"Actual values\")\n",
    "plt.ylabel(\"Predicted values\")\n",
    "\n",
    "print(\"The RMSE of the predictions is: \", sqrt(mean_squared_error(y_test, y_hat)))"
   ]
  },
  {
   "cell_type": "markdown",
   "metadata": {},
   "source": [
    "As we can see there is a strong relationship between the predicted and actual values, even though the RMSE is around 5.2 (every time you run the notebook you will get slightly different results). In order to understand this, we need to remember the problem setting. We have a variable that follows a Skellam distribution with parameters that depend on some covariate(s). What we observe in the dataset (the dependent variable) is a single value from that Skellam distribution. The variance of $X\\sim Skellam(\\lambda_1, \\lambda_2)$ is given by $var(X) = \\lambda_1 + \\lambda_2$. Hence, the single value we observe for every distribution will have <I>significant</I> spread around the mean (which will be our prediction). Considering the true distribution for each data point in the test set the <I>average variance</I> in these distributions is: "
   ]
  },
  {
   "cell_type": "code",
   "execution_count": 230,
   "metadata": {},
   "outputs": [
    {
     "data": {
      "text/plain": [
       "5.759713592082268"
      ]
     },
     "execution_count": 230,
     "metadata": {},
     "output_type": "execute_result"
    }
   ],
   "source": [
    "np.mean([sqrt(y1_hat[i]+y2_hat[i]) for i in range(1000)])"
   ]
  },
  {
   "cell_type": "markdown",
   "metadata": {},
   "source": [
    "If we focus on the expected value of the ground truth and predicted distributions then as we can see from the following figure the predicted values follow very closely the actual ones. "
   ]
  },
  {
   "cell_type": "code",
   "execution_count": 231,
   "metadata": {},
   "outputs": [
    {
     "data": {
      "text/plain": [
       "Text(0, 0.5, 'Predicted values')"
      ]
     },
     "execution_count": 231,
     "metadata": {},
     "output_type": "execute_result"
    },
    {
     "data": {
      "image/png": "[encoded data removed]",
      "text/plain": [
       "<Figure size 432x288 with 1 Axes>"
      ]
     },
     "metadata": {},
     "output_type": "display_data"
    }
   ],
   "source": [
    "plt.scatter(y1_test-y2_test,y_hat)\n",
    "plt.xlabel(\"Actual values\")\n",
    "plt.ylabel(\"Predicted values\")"
   ]
  },
  {
   "cell_type": "markdown",
   "metadata": {},
   "source": [
    "We can also perform a [Kolmogorov-Smirnov](https://en.wikipedia.org/wiki/Kolmogorov–Smirnov_test) for the gournd truth and predicted distributions at every test point and test they hypothesis that the two distributions are the same. In particular, for each test point we build a random sample distributed according to the corresponding Skellam parameters. As we can see below the majority "
   ]
  },
  {
   "cell_type": "code",
   "execution_count": 234,
   "metadata": {},
   "outputs": [
    {
     "name": "stdout",
     "output_type": "stream",
     "text": [
      "The median p-value is:  0.3584201320245688\n",
      "The null hypothesis can be rejected at the 5% level for:  0.17 of the cases.\n"
     ]
    },
    {
     "data": {
      "text/plain": [
       "[Text(0.5, 0, 'p-values')]"
      ]
     },
     "execution_count": 234,
     "metadata": {},
     "output_type": "execute_result"
    },
    {
     "data": {
      "image/png": "[encoded data removed]",
      "text/plain": [
       "<Figure size 432x288 with 1 Axes>"
      ]
     },
     "metadata": {},
     "output_type": "display_data"
    }
   ],
   "source": [
    "pvals = [stats.ks_2samp(stats.skellam.rvs(y1_test[i],y2_test[i],size = 50),stats.skellam.rvs(y1_hat[i],y2_hat[i],size = 50)).pvalue for i in range(1000)]\n",
    "print(\"The median p-value is: \", np.median(pvals))\n",
    "print(\"The null hypothesis can be rejected at the 5% level for: \", len([i for i in pvals if i<0.05])/len(pvals) , \"of the cases.\")\n",
    "\n",
    "import seaborn as sns\n",
    "\n",
    "ax = sns.distplot(pvals)\n",
    "ax.set(xlabel='p-values')\n"
   ]
  },
  {
   "cell_type": "markdown",
   "metadata": {},
   "source": [
    "{\\bf Takeaway: }Overall the above basic script can help you built a generalized linear model beyond the ones that currently are available on the various relevant libraries. "
   ]
  }
 ],
 "metadata": {
  "kernelspec": {
   "display_name": "Python 3",
   "language": "python",
   "name": "python3"
  },
  "language_info": {
   "codemirror_mode": {
    "name": "ipython",
    "version": 3
   },
   "file_extension": ".py",
   "mimetype": "text/x-python",
   "name": "python",
   "nbconvert_exporter": "python",
   "pygments_lexer": "ipython3",
   "version": "3.6.8"
  }
 },
 "nbformat": 4,
 "nbformat_minor": 2
}
